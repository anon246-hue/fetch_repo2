{
 "cells": [
  {
   "cell_type": "markdown",
   "metadata": {},
   "source": [
    "### Fetch DB Queries and EDA\n",
    "- Gets files from source\n",
    "- Loads to DuckDB\n",
    "- Transforms data to DWH"
   ]
  },
  {
   "cell_type": "markdown",
   "metadata": {},
   "source": [
    "#### Tables\n",
    " - **users_raw** - raw users table from json\n",
    " - **dim_users** - transformed users table\n",
    " - **brands_raw** - raw brands table from json\n",
    " - **dim_brands** - transformed brands table\n",
    " - **receipts_raw** - raw receipts table from json\n",
    " - **receipts** - transformed receipts table\n",
    " - **receipt_line_item** - transformed reciept line item from receipts, many:1\n",
    " - **dim_date** -  role playing date dim"
   ]
  },
  {
   "cell_type": "code",
   "execution_count": 1,
   "metadata": {},
   "outputs": [],
   "source": [
    "from fetch.ingestion.load_source_data import download_and_extract_gz,get_source_files\n",
    "from fetch.ingestion.transform_data import unpack_receipts\n",
    "from fetch.create_db import create_db\n",
    "import duckdb"
   ]
  },
  {
   "cell_type": "code",
   "execution_count": 2,
   "metadata": {},
   "outputs": [
    {
     "name": "stdout",
     "output_type": "stream",
     "text": [
      "Extracted gz file https://fetch-hiring.s3.amazonaws.com/analytics-engineer/ineeddata-data-modeling/receipts.json.gz to: ..\\data\n",
      "Extracted tar file https://fetch-hiring.s3.amazonaws.com/analytics-engineer/ineeddata-data-modeling/users.json.gz to: ..\\data\n",
      "Extracted gz file https://fetch-hiring.s3.amazonaws.com/analytics-engineer/ineeddata-data-modeling/brands.json.gz to: ..\\data\n"
     ]
    }
   ],
   "source": [
    "get_source_files()"
   ]
  },
  {
   "cell_type": "code",
   "execution_count": 3,
   "metadata": {},
   "outputs": [
    {
     "name": "stdout",
     "output_type": "stream",
     "text": [
      "Created Dim Date\n",
      "Create users_raw\n",
      "created dim_users\n",
      "created brands_raw\n",
      "created dim_brands\n",
      "created receipts_raw\n",
      "created receipts\n",
      "created receipt_line_item\n",
      "Fetch DWH ready for analytics!!!\n"
     ]
    }
   ],
   "source": [
    "create_db()"
   ]
  },
  {
   "cell_type": "code",
   "execution_count": 4,
   "metadata": {},
   "outputs": [
    {
     "data": {
      "text/plain": [
       "┌──────────────────────────┬──────────────────────────┬──────────┬──────────────┬───────────────┬─────────────────────┬─────────────┬──────────────────────┬───────────────┬─────────────────────┐\n",
       "│        receipt_id        │         user_id          │  status  │ date_scanned │ purchase_date │ points_awarded_date │ total_spent │ purchased_item_count │ points_earned │ bonus_points_earned │\n",
       "│         varchar          │         varchar          │ varchar  │    int32     │     int32     │        int32        │    float    │        int32         │     float     │        float        │\n",
       "├──────────────────────────┼──────────────────────────┼──────────┼──────────────┼───────────────┼─────────────────────┼─────────────┼──────────────────────┼───────────────┼─────────────────────┤\n",
       "│ 5ff1e1eb0a720f0523000575 │ 5ff1e1eacfcf6c399c274ae6 │ FINISHED │     20210103 │      20210103 │            20210103 │        26.0 │                    5 │         500.0 │               500.0 │\n",
       "│ 5ff1e1bb0a720f052300056b │ 5ff1e194b6a9d73a3a9f1052 │ FINISHED │     20210103 │      20210102 │            20210103 │        11.0 │                    2 │         150.0 │               150.0 │\n",
       "│ 5ff1e1f10a720f052300057a │ 5ff1e1f1cfcf6c399c274b0b │ REJECTED │     20210103 │      20210103 │                NULL │        10.0 │                    1 │           5.0 │                 5.0 │\n",
       "│ 5ff1e1ee0a7214ada100056f │ 5ff1e1eacfcf6c399c274ae6 │ FINISHED │     20210103 │      20210103 │            20210103 │        28.0 │                    4 │           5.0 │                 5.0 │\n",
       "│ 5ff1e1d20a7214ada1000561 │ 5ff1e194b6a9d73a3a9f1052 │ FINISHED │     20210103 │      20210102 │            20210103 │         1.0 │                    2 │           5.0 │                 5.0 │\n",
       "│ 5ff1e1e40a7214ada1000566 │ 5ff1e1e4cfcf6c399c274ac3 │ FINISHED │     20210103 │      20210102 │            20210103 │        3.25 │                    1 │         750.0 │               750.0 │\n",
       "│ 5ff1e1cd0a720f052300056f │ 5ff1e194b6a9d73a3a9f1052 │ FINISHED │     20210103 │      20210103 │            20210103 │        2.23 │                    1 │           5.0 │                 5.0 │\n",
       "│ 5ff1e1a40a720f0523000569 │ 5ff1e194b6a9d73a3a9f1052 │ FINISHED │     20210103 │      20201227 │            20210103 │        10.0 │                    1 │         500.0 │               500.0 │\n",
       "│ 5ff1e1ed0a7214ada100056e │ 5ff1e1eacfcf6c399c274ae6 │ FINISHED │     20210103 │      20210103 │            20210103 │        20.0 │                    5 │           5.0 │                 5.0 │\n",
       "│ 5ff1e1eb0a7214ada100056b │ 5ff1e1eacfcf6c399c274ae6 │ FINISHED │     20210103 │      20210103 │            20210103 │        20.0 │                    3 │         250.0 │               250.0 │\n",
       "├──────────────────────────┴──────────────────────────┴──────────┴──────────────┴───────────────┴─────────────────────┴─────────────┴──────────────────────┴───────────────┴─────────────────────┤\n",
       "│ 10 rows                                                                                                                                                                             10 columns │\n",
       "└────────────────────────────────────────────────────────────────────────────────────────────────────────────────────────────────────────────────────────────────────────────────────────────────┘"
      ]
     },
     "execution_count": 4,
     "metadata": {},
     "output_type": "execute_result"
    }
   ],
   "source": [
    "#test\n",
    "sql=\"\"\"\n",
    "SELECT *\n",
    "FROM receipts\n",
    "limit 10\n",
    "\"\"\"\n",
    "duckdb.sql(sql)"
   ]
  },
  {
   "cell_type": "markdown",
   "metadata": {},
   "source": [
    "### SQL Questions"
   ]
  },
  {
   "cell_type": "code",
   "execution_count": 5,
   "metadata": {},
   "outputs": [
    {
     "data": {
      "text/plain": [
       "┌────────────┬────────────┬──────────────────┐\n",
       "│ brand_code │   month    │ receipts_scanned │\n",
       "│  varchar   │    date    │      int64       │\n",
       "├────────────┼────────────┼──────────────────┤\n",
       "│ VIVA       │ 2021-02-01 │                1 │\n",
       "└────────────┴────────────┴──────────────────┘"
      ]
     },
     "execution_count": 5,
     "metadata": {},
     "output_type": "execute_result"
    }
   ],
   "source": [
    "#What are the top 5 brands by receipts scanned for most recent month?\n",
    "sql=\"\"\"\n",
    "with max_month as (\n",
    "SELECT \n",
    "    max(start_of_month) as month\n",
    "FROM\n",
    "    receipt_line_item rl\n",
    "    JOIN dim_date d on d.date_id = rl.date_scanned\n",
    "    JOIN dim_brands b on b.brand_code = rl.brand_code\n",
    ")\n",
    "select\n",
    "    b.brand_code\n",
    "    ,mm.month\n",
    "    ,count(*) as receipts_scanned\n",
    "FROM\n",
    "    receipt_line_item rl\n",
    "    JOIN dim_date d on d.date_id = rl.date_scanned\n",
    "    JOIN dim_brands b on b.brand_code = rl.brand_code\n",
    "    JOIN max_month mm on d.start_of_month = mm.month\n",
    "--WHERE start_of_month = (SELECT month from max_month)\n",
    "GROUP BY all\n",
    "ORDER BY receipts_scanned DESC\n",
    "limit 5\n",
    "\"\"\"\n",
    "duckdb.sql(sql)"
   ]
  },
  {
   "cell_type": "code",
   "execution_count": 6,
   "metadata": {},
   "outputs": [
    {
     "data": {
      "text/plain": [
       "┌────────────┬────────────┬────────────────┬──────────────────┬───────┐\n",
       "│ brand_code │ year_month │ relative_month │ receipts_scanned │ _rank │\n",
       "│  varchar   │  varchar   │    varchar     │      int64       │ int64 │\n",
       "├────────────┼────────────┼────────────────┼──────────────────┼───────┤\n",
       "│ VIVA       │ 2021_2     │ current_month  │                1 │     1 │\n",
       "│ KRAFT      │ 2021_1     │ previous month │               60 │     5 │\n",
       "│ DORITOS    │ 2021_1     │ previous month │               77 │     4 │\n",
       "│ KLEENEX    │ 2021_1     │ previous month │               88 │     2 │\n",
       "│ KNORR      │ 2021_1     │ previous month │               79 │     3 │\n",
       "│ PEPSI      │ 2021_1     │ previous month │               93 │     1 │\n",
       "└────────────┴────────────┴────────────────┴──────────────────┴───────┘"
      ]
     },
     "execution_count": 6,
     "metadata": {},
     "output_type": "execute_result"
    }
   ],
   "source": [
    "#How does the ranking of the top 5 brands by receipts scanned for the recent month compare to the ranking for the previous month?\n",
    "sql=\"\"\"\n",
    "with max_month as (\n",
    "SELECT \n",
    "    max(start_of_month) as month\n",
    "FROM\n",
    "    receipt_line_item rl\n",
    "    JOIN dim_date d on d.date_id = rl.date_scanned\n",
    "    JOIN dim_brands b on b.brand_code = rl.brand_code\n",
    ")\n",
    ",agg as (\n",
    "select\n",
    "    b.brand_code\n",
    "    ,concat(d.year,'_',d.month) as year_month\n",
    "    ,CASE\n",
    "        when d.start_of_month = mm.month then 'current_month' else 'previous month'\n",
    "    END relative_month\n",
    "    ,count(*) as receipts_scanned\n",
    "    \n",
    "FROM\n",
    "    receipt_line_item rl\n",
    "    JOIN dim_date d on d.date_id = rl.date_scanned\n",
    "    JOIN dim_brands b on b.brand_code = rl.brand_code\n",
    "    JOIN max_month mm on d.start_of_month >= date_add(mm.month, - INTERVAL 1 MONTH)\n",
    "GROUP BY all\n",
    ")\n",
    "SELECT *\n",
    ",row_number() over(partition by year_month order by receipts_scanned desc nulls last) as _rank\n",
    "FROM agg\n",
    "qualify row_number() over(partition by year_month order by receipts_scanned desc nulls last) <= 5\n",
    "order by year_month desc\n",
    "\"\"\"\n",
    "duckdb.sql(sql)\n"
   ]
  },
  {
   "cell_type": "code",
   "execution_count": 7,
   "metadata": {},
   "outputs": [
    {
     "data": {
      "text/plain": [
       "┌──────────┬────────────────────┬────────────────────┬───────────────────────┐\n",
       "│  status  │    total_spend     │     avg_spend      │ total_items_purchased │\n",
       "│ varchar  │       double       │       double       │        int128         │\n",
       "├──────────┼────────────────────┼────────────────────┼───────────────────────┤\n",
       "│ FINISHED │  41882.53011918068 │  80.85430524938356 │                  8184 │\n",
       "│ REJECTED │ 1656.1499605178833 │ 23.326055781942017 │                   173 │\n",
       "└──────────┴────────────────────┴────────────────────┴───────────────────────┘"
      ]
     },
     "execution_count": 7,
     "metadata": {},
     "output_type": "execute_result"
    }
   ],
   "source": [
    "#When considering average spend from receipts with 'rewardsReceiptStatus’ of ‘Accepted’ or ‘Rejected’, which is greater?\n",
    "#When considering total number of items purchased from receipts with 'rewardsReceiptStatus’ of ‘Accepted’ or ‘Rejected’, which is greater?\n",
    "\n",
    "sql=\"\"\"\n",
    "SELECT \n",
    "    status\n",
    "    ,SUM(total_spent) as total_spend\n",
    "    ,AVG(total_spent) as avg_spend\n",
    "    ,SUM(purchased_Item_Count) as total_items_purchased\n",
    "FROM\n",
    "    receipts\n",
    "WHERE\n",
    "    status IN ('REJECTED','FINISHED','ACCEPTED') --can not find any accepted status\n",
    "GROUP BY 1\n",
    "\"\"\"\n",
    "duckdb.sql(sql)"
   ]
  },
  {
   "cell_type": "code",
   "execution_count": null,
   "metadata": {},
   "outputs": [],
   "source": []
  },
  {
   "cell_type": "code",
   "execution_count": null,
   "metadata": {},
   "outputs": [],
   "source": []
  },
  {
   "cell_type": "code",
   "execution_count": null,
   "metadata": {},
   "outputs": [],
   "source": []
  },
  {
   "cell_type": "markdown",
   "metadata": {},
   "source": [
    "### Data QA/EDA\n",
    "\n",
    " - Checekd column population\n",
    " - issues with user id uniqueness\n",
    " - issues with business key for brand dimension and how to join it to receipt line items\n",
    "    - Orphaned records in line item with neither brand or barcode"
   ]
  },
  {
   "cell_type": "code",
   "execution_count": 8,
   "metadata": {},
   "outputs": [],
   "source": [
    "import pandas as pd\n",
    "import json"
   ]
  },
  {
   "cell_type": "code",
   "execution_count": 9,
   "metadata": {},
   "outputs": [
    {
     "name": "stdout",
     "output_type": "stream",
     "text": [
      "\n",
      "\n",
      "brands\n",
      "....\n",
      "\n",
      "\n",
      "               column_name  percent_missing\n",
      "_id                    _id         0.000000\n",
      "barcode            barcode         0.000000\n",
      "category          category        13.281919\n",
      "categoryCode  categoryCode        55.698372\n",
      "cpg                    cpg         0.000000\n",
      "name                  name         0.000000\n",
      "topBrand          topBrand        52.442159\n",
      "brandCode        brandCode        20.051414\n",
      "\n",
      "\n",
      "users\n",
      "....\n",
      "\n",
      "\n",
      "               column_name  percent_missing\n",
      "_id                    _id         0.000000\n",
      "active              active         0.000000\n",
      "createdDate    createdDate         0.000000\n",
      "lastLogin        lastLogin        12.525253\n",
      "role                  role         0.000000\n",
      "signUpSource  signUpSource         9.696970\n",
      "state                state        11.313131\n",
      "\n",
      "\n",
      "receipts\n",
      "....\n",
      "\n",
      "\n",
      "                                     column_name  percent_missing\n",
      "_id                                          _id         0.000000\n",
      "bonusPointsEarned              bonusPointsEarned        51.385165\n",
      "bonusPointsEarnedReason  bonusPointsEarnedReason        51.385165\n",
      "createDate                            createDate         0.000000\n",
      "dateScanned                          dateScanned         0.000000\n",
      "finishedDate                        finishedDate        49.240393\n",
      "modifyDate                            modifyDate         0.000000\n",
      "pointsAwardedDate              pointsAwardedDate        52.010724\n",
      "pointsEarned                        pointsEarned        45.576408\n",
      "purchaseDate                        purchaseDate        40.035746\n",
      "purchasedItemCount            purchasedItemCount        43.252904\n",
      "rewardsReceiptItemList    rewardsReceiptItemList        39.320822\n",
      "rewardsReceiptStatus        rewardsReceiptStatus         0.000000\n",
      "totalSpent                            totalSpent        38.873995\n",
      "userId                                    userId         0.000000\n"
     ]
    }
   ],
   "source": [
    "#checking % nulls for columns, looks like data is sparse for some\n",
    "#espceially converning for columns I want to use as PK or business keys like brand code\n",
    "\n",
    "files_dict = {\n",
    "    \"brands\":\"..\\\\data\\\\brands.json\"\n",
    "    ,\"users\":\"..\\\\data\\\\users.json\"\n",
    "    ,\"receipts\":\"..\\\\data\\\\receipts.json\"\n",
    "}\n",
    "\n",
    "for k,v in files_dict.items():\n",
    "    \n",
    "    df = pd.read_json(v, lines=True)\n",
    "\n",
    "    percent_missing = df.isnull().sum() * 100 / len(df)\n",
    "    missing_value_df = pd.DataFrame({'column_name': df.columns,\n",
    "                                    'percent_missing': percent_missing})\n",
    "    print('\\n')\n",
    "    print(k)\n",
    "    print('....')\n",
    "    print('\\n')\n",
    "    print(missing_value_df)"
   ]
  },
  {
   "cell_type": "code",
   "execution_count": 10,
   "metadata": {},
   "outputs": [
    {
     "data": {
      "text/plain": [
       "┌────────────────────────────────────┬──────────────┐\n",
       "│              user_id               │ count_star() │\n",
       "│       struct(\"$oid\" varchar)       │    int64     │\n",
       "├────────────────────────────────────┼──────────────┤\n",
       "│ {'$oid': 5fc961c3b8cfca11a077dd33} │           20 │\n",
       "│ {'$oid': 54943462e4b07e684157a532} │           20 │\n",
       "│ {'$oid': 5fa41775898c7a11a6bcef3e} │           18 │\n",
       "│ {'$oid': 59c124bae4b0299e55b0f330} │           18 │\n",
       "│ {'$oid': 5ff5d15aeb7c7d12096d91a2} │           18 │\n",
       "│ {'$oid': 600fb1ac73c60b12049027bb} │           16 │\n",
       "│ {'$oid': 5ff1e194b6a9d73a3a9f1052} │           11 │\n",
       "│ {'$oid': 600987d77d983a11f63cfa92} │            9 │\n",
       "│ {'$oid': 600056a3f7e5b011fce897b0} │            8 │\n",
       "│ {'$oid': 5a43c08fe4b014fd6b6a0612} │            8 │\n",
       "│                 ·                  │            · │\n",
       "│                 ·                  │            · │\n",
       "│                 ·                  │            · │\n",
       "│ {'$oid': 60074b49325c8a1794623876} │            2 │\n",
       "│ {'$oid': 60005709bd4dff11dda90ac1} │            2 │\n",
       "│ {'$oid': 5fff4beedf9ace121f0c17ea} │            2 │\n",
       "│ {'$oid': 5ffe115404929101d0aaebb2} │            2 │\n",
       "│ {'$oid': 5ff873ddb3348b11c9337733} │            2 │\n",
       "│ {'$oid': 60088d55633aab121bb8e41a} │            2 │\n",
       "│ {'$oid': 600f00d05edb787dce05fb84} │            2 │\n",
       "│ {'$oid': 60229990b57b8a12187fe9e0} │            2 │\n",
       "│ {'$oid': 60145a3c84231211ce796c5d} │            2 │\n",
       "│ {'$oid': 5ff73b90eb7c7d31ca8a452b} │            2 │\n",
       "├────────────────────────────────────┴──────────────┤\n",
       "│ 70 rows (20 shown)                      2 columns │\n",
       "└───────────────────────────────────────────────────┘"
      ]
     },
     "execution_count": 10,
     "metadata": {},
     "output_type": "execute_result"
    }
   ],
   "source": [
    "#Checking uniqueness, looks like we will need to de-duplicate some dimensions before using\n",
    "sql=\"\"\"\n",
    "SELECT \n",
    "    _id as user_id\n",
    "    ,count(*)\n",
    "FROM\n",
    "    users_raw\n",
    "group by 1\n",
    "having count(*) >1\n",
    "order by 2 desc\n",
    "\"\"\"\n",
    "duckdb.sql(sql)"
   ]
  },
  {
   "cell_type": "code",
   "execution_count": 11,
   "metadata": {},
   "outputs": [
    {
     "data": {
      "text/plain": [
       "┌─────────────────┬──────────────┬───────────────┐\n",
       "│ null_brand_code │ null_barcode │ total_records │\n",
       "│     int128      │    int128    │     int64     │\n",
       "├─────────────────┼──────────────┼───────────────┤\n",
       "│             234 │            0 │          1167 │\n",
       "└─────────────────┴──────────────┴───────────────┘"
      ]
     },
     "execution_count": 11,
     "metadata": {},
     "output_type": "execute_result"
    }
   ],
   "source": [
    "#Checking what business key to use for brands, confused on barcode vs brand code, especially relating it to receipts\n",
    "sql=\"\"\"\n",
    "SELECT \n",
    "    sum(case when brandcode is null then 1 else 0 end) as null_brand_code\n",
    "    ,sum(case when barcode is null then 1 else 0 end) as null_barcode\n",
    "    ,count(*) as total_records\n",
    "FROM brands_raw\n",
    "\"\"\"\n",
    "duckdb.sql(sql)"
   ]
  },
  {
   "cell_type": "code",
   "execution_count": 12,
   "metadata": {},
   "outputs": [
    {
     "data": {
      "text/plain": [
       "┌──────────────────┬─────────────────┬──────────────┬──────────────────┐\n",
       "│ total_line_items │ null_brand_code │ null_barcode │ orphaned_records │\n",
       "│      int64       │     int128      │    int128    │      int128      │\n",
       "├──────────────────┼─────────────────┼──────────────┼──────────────────┤\n",
       "│             6941 │            4341 │         3851 │             2997 │\n",
       "└──────────────────┴─────────────────┴──────────────┴──────────────────┘"
      ]
     },
     "execution_count": 12,
     "metadata": {},
     "output_type": "execute_result"
    }
   ],
   "source": [
    "#Seems inconsistent on how to join to receipt line item data, and lots or orphaned records\n",
    "sql=\"\"\"\n",
    "   with t1 as (\n",
    "        SELECT\n",
    "            json_extract_string(_id, '$.$oid') as receipt_id\n",
    "            ,unnest(rewardsReceiptItemList) as line_item\n",
    "            ,*\n",
    "        FROM\n",
    "            receipts_raw\n",
    "    )\n",
    "    ,t2 as (\n",
    "    SELECT \n",
    "        receipt_id\n",
    "        ,json_extract_string(line_item, 'brandCode') as brand_code\n",
    "        ,json_extract_string(line_item, 'barcode') as barcode\n",
    "    FROM t1\n",
    "    )\n",
    "SELECT\n",
    "    count(*) as total_line_items\n",
    "    ,sum(case when brand_code is null then 1 else 0 end) as null_brand_code\n",
    "    ,sum(case when barcode is null then 1 else 0 end) as null_barcode\n",
    "    ,SUM(CASE WHEN barcode is null and brand_code is null then 1 else 0 end) orphaned_records\n",
    "FROM t2\n",
    "\"\"\"\n",
    "duckdb.sql(sql)"
   ]
  },
  {
   "cell_type": "code",
   "execution_count": null,
   "metadata": {},
   "outputs": [],
   "source": []
  },
  {
   "cell_type": "code",
   "execution_count": null,
   "metadata": {},
   "outputs": [],
   "source": []
  },
  {
   "cell_type": "code",
   "execution_count": null,
   "metadata": {},
   "outputs": [],
   "source": []
  }
 ],
 "metadata": {
  "kernelspec": {
   "display_name": "fetch_venv",
   "language": "python",
   "name": "python3"
  },
  "language_info": {
   "codemirror_mode": {
    "name": "ipython",
    "version": 3
   },
   "file_extension": ".py",
   "mimetype": "text/x-python",
   "name": "python",
   "nbconvert_exporter": "python",
   "pygments_lexer": "ipython3",
   "version": "3.11.11"
  }
 },
 "nbformat": 4,
 "nbformat_minor": 2
}
